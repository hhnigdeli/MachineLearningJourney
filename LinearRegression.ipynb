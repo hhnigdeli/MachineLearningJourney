{
 "cells": [
  {
   "cell_type": "code",
   "execution_count": null,
   "metadata": {},
   "outputs": [],
   "source": [
    "import pandas as pd"
   ]
  },
  {
   "cell_type": "code",
   "execution_count": null,
   "metadata": {},
   "outputs": [],
   "source": [
    "data = pd.read_csv(\"weight-height.csv\")"
   ]
  },
  {
   "cell_type": "code",
   "execution_count": null,
   "metadata": {},
   "outputs": [],
   "source": [
    "data = data[data[\"Gender\"]==\"Male\"]"
   ]
  },
  {
   "cell_type": "code",
   "execution_count": null,
   "metadata": {},
   "outputs": [],
   "source": [
    "data = data[[\"Height\",\"Weight\"]]"
   ]
  },
  {
   "cell_type": "code",
   "execution_count": null,
   "metadata": {},
   "outputs": [],
   "source": [
    "data.columns = [\"Weight\",\"Height\"]"
   ]
  },
  {
   "cell_type": "code",
   "execution_count": null,
   "metadata": {},
   "outputs": [],
   "source": [
    "data.head(5)"
   ]
  },
  {
   "cell_type": "code",
   "execution_count": null,
   "metadata": {},
   "outputs": [],
   "source": [
    "import matplotlib.pyplot as plt"
   ]
  },
  {
   "cell_type": "code",
   "execution_count": null,
   "metadata": {},
   "outputs": [],
   "source": [
    "plt.scatter(data.Height,data.Weight)"
   ]
  },
  {
   "cell_type": "code",
   "execution_count": null,
   "metadata": {},
   "outputs": [],
   "source": [
    "import numpy as np"
   ]
  },
  {
   "cell_type": "code",
   "execution_count": null,
   "metadata": {},
   "outputs": [],
   "source": [
    "import random"
   ]
  },
  {
   "cell_type": "markdown",
   "metadata": {},
   "source": [
    "Sampling "
   ]
  },
  {
   "cell_type": "code",
   "execution_count": null,
   "metadata": {},
   "outputs": [],
   "source": [
    "newIndex = random.sample(list(data.index), 25)"
   ]
  },
  {
   "cell_type": "code",
   "execution_count": null,
   "metadata": {},
   "outputs": [],
   "source": [
    "dataSampled = data.reindex(newIndex)"
   ]
  },
  {
   "cell_type": "code",
   "execution_count": null,
   "metadata": {},
   "outputs": [],
   "source": [
    "plt.scatter(dataSampled.Height,dataSampled.Weight)"
   ]
  },
  {
   "cell_type": "markdown",
   "metadata": {},
   "source": [
    "<li>y = weight \n",
    "<li>x = height \n",
    "\n",
    "\n",
    "\n",
    "<li>y => dependent variable \n",
    "<li>x => independent variable "
   ]
  },
  {
   "cell_type": "code",
   "execution_count": null,
   "metadata": {},
   "outputs": [],
   "source": [
    "x = list(dataSampled.Height)\n",
    "y = list(dataSampled.Weight)\n",
    "N = len(dataSampled)"
   ]
  },
  {
   "cell_type": "markdown",
   "metadata": {},
   "source": [
    "Normalization according to standard score"
   ]
  },
  {
   "cell_type": "code",
   "execution_count": null,
   "metadata": {},
   "outputs": [],
   "source": [
    "x = [(i-np.mean(x))/np.std(x)  for i in x]\n",
    "y = [(i-np.mean(y))/np.std(y)  for i in y]"
   ]
  },
  {
   "cell_type": "code",
   "execution_count": null,
   "metadata": {},
   "outputs": [],
   "source": [
    "plt.scatter(x,y)"
   ]
  },
  {
   "cell_type": "markdown",
   "metadata": {},
   "source": [
    "<li>intercept            => b \n",
    "<li>coefficent                => m\n"
   ]
  },
  {
   "cell_type": "markdown",
   "metadata": {},
   "source": [
    "y_ = b + m*x"
   ]
  },
  {
   "cell_type": "markdown",
   "metadata": {},
   "source": [
    "lossFunction = (y - (b + m*x))**2"
   ]
  },
  {
   "cell_type": "markdown",
   "metadata": {},
   "source": [
    "<li>d lossFunction / d b = -2*(y-(m*x+b))\n",
    "<li>d lossFunction / d m = -2*x*(y-(m*x+b))"
   ]
  },
  {
   "cell_type": "code",
   "execution_count": null,
   "metadata": {},
   "outputs": [],
   "source": [
    "c=0\n",
    "LearningRate = 0.008\n",
    "b = 4\n",
    "m = 3\n",
    "iter = 175\n",
    "liste = []\n",
    "mselist = [] # mean square errors list for each iteration \n",
    "while c <iter:\n",
    "        slopem = 0\n",
    "        slopeb = 0\n",
    "        for i in range(len(dataSampled)):\n",
    "\n",
    "                slopem  +=  -2*x[i]*(y[i]-(m*x[i]+b)) # sum of lost function derivatives with respect to m\n",
    "                \n",
    "                slopeb  +=  -2*(y[i]-(m*x[i]+b))      # sum of lost function derivatives with respect to b\n",
    "                \n",
    "    \n",
    "        b -= ((slopeb/N)  * LearningRate) # new b\n",
    "        m -= ((slopem/N) * LearningRate)  # new m\n",
    "        \n",
    "        mse = 0\n",
    "        for i in range(N):\n",
    "            mse += (y[i] - (m*x[i]+b))**2 # mean square error calculation\n",
    "        mselist.append(mse/N)  \n",
    "        \n",
    "        liste.append((b,m))\n",
    "        \n",
    "        c+=1\n",
    "print(\"intercept = {} and coefficent = {} and MeanSuqareError = {}\".format(b,m,mse))\n",
    "\n",
    "\n"
   ]
  },
  {
   "cell_type": "code",
   "execution_count": null,
   "metadata": {},
   "outputs": [],
   "source": [
    "plt.plot(mselist,color=\"r\")\n",
    "plt.scatter(range(iter),mselist)\n",
    "plt.xlabel(\"Iteration\")\n",
    "plt.ylabel(\"Mean Suqare Error\")\n",
    "plt.title(\"Gradient Descent\")\n"
   ]
  },
  {
   "cell_type": "code",
   "execution_count": null,
   "metadata": {},
   "outputs": [],
   "source": [
    "regressionLine = [ (b + m*i)    for i in range(-3,5)]\n",
    "\n",
    "\n",
    "plt.scatter(x,y, color=\"k\")\n",
    "plt.plot(range(-3,5),regressionLine, color=\"r\")\n",
    "plt.title(\"Fited Regression Line \")\n",
    "plt.xlabel(\"X\")\n",
    "plt.ylabel(\"Y\")"
   ]
  },
  {
   "cell_type": "code",
   "execution_count": null,
   "metadata": {},
   "outputs": [],
   "source": [
    "from pylab import rcParams\n",
    "rcParams['figure.figsize'] = 15, 10 \n",
    "rcParams['axes.titlesize'] =18"
   ]
  },
  {
   "cell_type": "markdown",
   "metadata": {},
   "source": [
    "Animation for learning Curve"
   ]
  },
  {
   "cell_type": "code",
   "execution_count": null,
   "metadata": {},
   "outputs": [],
   "source": [
    "for t in range(len(liste)):\n",
    "    ax1 = plt.subplot2grid((3, 2), (0, 0))\n",
    "    \n",
    "    ax1.annotate('f(x) = {}x  + {}'.format(np.round(liste[t][0],4),np.round(liste[t][1],4)), xy=(100, 15),size=15)\n",
    "    \n",
    "    plt.plot(mselist,color=\"r\")\n",
    "    plt.scatter(range(len(mselist[:t])),mselist[:t])\n",
    "    plt.xlabel(\"Iteration\")\n",
    "    plt.ylabel(\"Mean Suqare Error\")\n",
    "    plt.title(\"Gradient Descent\")\n",
    "    \n",
    "    \n",
    "    ax2 = plt.subplot2grid((3, 1), (1, 0),rowspan=2)\n",
    "    \n",
    "    regressionLine = [ (liste[t][0] + liste[t][1]*i)    for i in range(-3,5)]\n",
    "    plt.scatter(x,y, color=\"k\")\n",
    "    plt.plot(range(-3,5),regressionLine, color=\"r\")\n",
    "    plt.title(\"Fited Regression Line \")\n",
    "    plt.xlabel(\"X\")\n",
    "    plt.ylabel(\"Y\")\n",
    "    plt.xlim(-3,3)\n",
    "    plt.ylim(-3,3)\n",
    "    \n",
    "    plt.tight_layout()\n",
    "    plt.savefig(\"foto{}.png\".format(t)) #save every scene on local directory as .png\n",
    "    plt.close()\n",
    "    \n",
    "    "
   ]
  },
  {
   "cell_type": "markdown",
   "metadata": {},
   "source": [
    "creating video with ffmpeg the commands can run on Commond prompt and also in notebook cell with ! notation"
   ]
  },
  {
   "cell_type": "code",
   "execution_count": null,
   "metadata": {},
   "outputs": [],
   "source": [
    "! ffmpeg -r 10 -f image2 -s 1280x1024 -i foto%01d.png -vcodec libx264 -crf 40 -pix_fmt yuv420p regression.mp4 "
   ]
  },
  {
   "cell_type": "code",
   "execution_count": null,
   "metadata": {},
   "outputs": [],
   "source": [
    "! ffmpeg -y -i regression.mp4 -i r.png -filter_complex \"[1]lut=a=val*0.3[a];[0][a]overlay=W-w-5:5\" -c:v libx264 -an regression1.mp4 "
   ]
  },
  {
   "cell_type": "code",
   "execution_count": null,
   "metadata": {},
   "outputs": [],
   "source": []
  }
 ],
 "metadata": {
  "kernelspec": {
   "display_name": "Python 3",
   "language": "python",
   "name": "python3"
  },
  "language_info": {
   "codemirror_mode": {
    "name": "ipython",
    "version": 3
   },
   "file_extension": ".py",
   "mimetype": "text/x-python",
   "name": "python",
   "nbconvert_exporter": "python",
   "pygments_lexer": "ipython3",
   "version": "3.6.4"
  }
 },
 "nbformat": 4,
 "nbformat_minor": 2
}
